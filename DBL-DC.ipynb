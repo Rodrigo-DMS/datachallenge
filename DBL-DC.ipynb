{
 "cells": [
  {
   "cell_type": "code",
   "execution_count": 1,
   "metadata": {},
   "outputs": [],
   "source": [
    "import json\n",
    "import pandas as pd\n",
    "import numpy as np\n",
    "import os\n",
    "import datetime\n"
   ]
  },
  {
   "cell_type": "code",
   "execution_count": 26,
   "metadata": {},
   "outputs": [],
   "source": [
    "pd.set_option('display.max_rows', 1000)\n",
    "pd.set_option('display.max_columns', 1000)"
   ]
  },
  {
   "cell_type": "code",
   "execution_count": null,
   "metadata": {},
   "outputs": [],
   "source": [
    "directory = os.fsencode(r\"C:\\Users\\rodri\\00-Scripts\\data\\data\")\n",
    "dfx = pd.DataFrame([])    \n",
    "\n",
    "for file in os.listdir(directory):\n",
    "    filename = os.fsdecode(file)\n",
    "    if filename.endswith(\".json\"):\n",
    "        \n",
    "        tweetlist = []\n",
    "        with open(r'C:\\Users\\rodri\\00-Scripts\\data\\data\\{}'.format(filename)) as f:\n",
    "            for line in f:\n",
    "                if 'Exceeded connection limit for user' in line:\n",
    "                    continue\n",
    "                \n",
    "                else:\n",
    "                    tweetDict = json.loads(line)\n",
    "                    tweetlist.append(tweetDict)\n",
    "            \n",
    "            dfx = dfx.append((pd.DataFrame(tweetlist)).dropna(subset=[\"id\", \"created_at\"]))\n",
    "        \n",
    "        \n",
    "        \n",
    "        continue\n",
    "    \n",
    "    \n",
    "    else:\n",
    "        continue"
   ]
  },
  {
   "cell_type": "code",
   "execution_count": null,
   "metadata": {
    "scrolled": true
   },
   "outputs": [],
   "source": [
    "# Only 260 values for each\n",
    "dfx.drop([\"geo\", \"coordinates\"], axis='columns', inplace=True)\n",
    "\n",
    "dfx['created_at'] = pd.to_datetime(dfx['created_at'])\n",
    "\n",
    "dfx.set_index([\"created_at\"], inplace=True)\n",
    "\n",
    "dfx[\"Month\"] = dfx.index.month.fillna(0.0).astype(int)\n",
    "dfx[\"Day\"] = dfx.index.day.fillna(0.0).astype(int)\n",
    "dfx[\"DayOfYear\"] = dfx.index.dayofyear.fillna(0.0).astype(int)\n",
    "\n"
   ]
  },
  {
   "cell_type": "code",
   "execution_count": null,
   "metadata": {},
   "outputs": [],
   "source": [
    "dfx[\"DayOfYear\"].describe()"
   ]
  },
  {
   "cell_type": "code",
   "execution_count": null,
   "metadata": {},
   "outputs": [],
   "source": [
    "dfx.shape"
   ]
  },
  {
   "cell_type": "code",
   "execution_count": null,
   "metadata": {},
   "outputs": [],
   "source": [
    "tweetlist = []\n",
    "with open('data/airlines-1585575566328.json') as f:\n",
    "    for jsonObj in f:\n",
    "        tweetDict = json.loads(jsonObj)\n",
    "        tweetlist.append(tweetDict)"
   ]
  },
  {
   "cell_type": "code",
   "execution_count": null,
   "metadata": {
    "scrolled": false
   },
   "outputs": [],
   "source": [
    "X = dfx[dfx[\"text\"].str.contains(\"KLM\").fillna(False)]"
   ]
  },
  {
   "cell_type": "code",
   "execution_count": null,
   "metadata": {},
   "outputs": [],
   "source": [
    "X.head()"
   ]
  }
 ],
 "metadata": {
  "kernelspec": {
   "display_name": "Python 3",
   "language": "python",
   "name": "python3"
  },
  "language_info": {
   "codemirror_mode": {
    "name": "ipython",
    "version": 3
   },
   "file_extension": ".py",
   "mimetype": "text/x-python",
   "name": "python",
   "nbconvert_exporter": "python",
   "pygments_lexer": "ipython3",
   "version": "3.8.5"
  }
 },
 "nbformat": 4,
 "nbformat_minor": 4
}
